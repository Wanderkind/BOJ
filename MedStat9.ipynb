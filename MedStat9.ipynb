{
  "nbformat": 4,
  "nbformat_minor": 0,
  "metadata": {
    "colab": {
      "name": "MedStat9.ipynb",
      "private_outputs": true,
      "provenance": [],
      "authorship_tag": "ABX9TyOVsZ4uLqRJRAoM6dfEmQR3",
      "include_colab_link": true
    },
    "kernelspec": {
      "name": "ir",
      "display_name": "R"
    },
    "language_info": {
      "name": "R"
    }
  },
  "cells": [
    {
      "cell_type": "markdown",
      "metadata": {
        "id": "view-in-github",
        "colab_type": "text"
      },
      "source": [
        "<a href=\"https://colab.research.google.com/github/Wanderkind/BOJ/blob/main/MedStat9.ipynb\" target=\"_parent\"><img src=\"https://colab.research.google.com/assets/colab-badge.svg\" alt=\"Open In Colab\"/></a>"
      ]
    },
    {
      "cell_type": "code",
      "execution_count": null,
      "metadata": {
        "id": "AG-KBgWcfAg6"
      },
      "outputs": [],
      "source": [
        "b=c(5,9,5,9,6,11,8,11,7,9,8,16,10,12,7,9,21,14,12,13)\n",
        "a=c(20,24,20,18,22,19,20,19,17,21,17,20,20,16,24,22,25,21,19,23)\n",
        "d=a-b\n",
        "alpha=0.05\n",
        "m=mean(d)\n",
        "l=length(d)\n",
        "print(d)\n",
        "print(m)\n",
        "print(l)"
      ]
    },
    {
      "cell_type": "code",
      "source": [
        "df=l-1\n",
        "print(df)"
      ],
      "metadata": {
        "id": "SBeu6b-ZfZqb"
      },
      "execution_count": null,
      "outputs": []
    },
    {
      "cell_type": "code",
      "source": [
        "x=m-qt(1-alpha/2,df)*sd(d)*sqrt(1/l)\n",
        "y=m+qt(1-alpha/2,df)*sd(d)*sqrt(1/l)\n",
        "print(x)\n",
        "print(y)"
      ],
      "metadata": {
        "id": "viGZ9XjWfjb6"
      },
      "execution_count": null,
      "outputs": []
    },
    {
      "cell_type": "code",
      "source": [
        "ConfLimit=c(x,y)\n",
        "names(ConfLimit)=c('Lower.CL','Upper.CL')\n",
        "print(ConfLimit)"
      ],
      "metadata": {
        "id": "IzQkblXRgDLM"
      },
      "execution_count": null,
      "outputs": []
    },
    {
      "cell_type": "code",
      "source": [
        "t.test(b,a,paired=T,alternative='less',conf.level=0.99)"
      ],
      "metadata": {
        "id": "Ns5yaRDehiJj"
      },
      "execution_count": null,
      "outputs": []
    }
  ]
}