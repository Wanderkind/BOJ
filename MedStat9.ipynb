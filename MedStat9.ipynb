{
  "nbformat": 4,
  "nbformat_minor": 0,
  "metadata": {
    "colab": {
      "name": "MedStat9.ipynb",
      "provenance": [],
      "collapsed_sections": [],
      "authorship_tag": "ABX9TyOVsZ4uLqRJRAoM6dfEmQR3",
      "include_colab_link": true
    },
    "kernelspec": {
      "name": "ir",
      "display_name": "R"
    },
    "language_info": {
      "name": "R"
    }
  },
  "cells": [
    {
      "cell_type": "markdown",
      "metadata": {
        "id": "view-in-github",
        "colab_type": "text"
      },
      "source": [
        "<a href=\"https://colab.research.google.com/github/Wanderkind/BOJ/blob/main/MedStat9.ipynb\" target=\"_parent\"><img src=\"https://colab.research.google.com/assets/colab-badge.svg\" alt=\"Open In Colab\"/></a>"
      ]
    },
    {
      "cell_type": "code",
      "execution_count": 28,
      "metadata": {
        "colab": {
          "base_uri": "https://localhost:8080/"
        },
        "id": "AG-KBgWcfAg6",
        "outputId": "e52f3a5b-b578-4e07-e4dd-d15d8db7c05f"
      },
      "outputs": [
        {
          "output_type": "stream",
          "name": "stdout",
          "text": [
            " [1] 15 15 15  9 16  8 12  8 10 12  9  4 10  4 17 13  4  7  7 10\n",
            "[1] 10.25\n",
            "[1] 20\n"
          ]
        }
      ],
      "source": [
        "b=c(5,9,5,9,6,11,8,11,7,9,8,16,10,12,7,9,21,14,12,13)\n",
        "a=c(20,24,20,18,22,19,20,19,17,21,17,20,20,16,24,22,25,21,19,23)\n",
        "d=a-b\n",
        "alpha=0.05\n",
        "m=mean(d)\n",
        "l=length(d)\n",
        "print(d)\n",
        "print(m)\n",
        "print(l)"
      ]
    },
    {
      "cell_type": "code",
      "source": [
        "df=l-1\n",
        "print(df)"
      ],
      "metadata": {
        "colab": {
          "base_uri": "https://localhost:8080/"
        },
        "id": "SBeu6b-ZfZqb",
        "outputId": "7ae503b3-6953-4bb2-ee84-e624d64b0978"
      },
      "execution_count": 29,
      "outputs": [
        {
          "output_type": "stream",
          "name": "stdout",
          "text": [
            "[1] 19\n"
          ]
        }
      ]
    },
    {
      "cell_type": "code",
      "source": [
        "x=m-qt(1-alpha/2,df)*sd(d)*sqrt(1/l)\n",
        "y=m+qt(1-alpha/2,df)*sd(d)*sqrt(1/l)\n",
        "print(x)\n",
        "print(y)"
      ],
      "metadata": {
        "colab": {
          "base_uri": "https://localhost:8080/"
        },
        "id": "viGZ9XjWfjb6",
        "outputId": "c84cba3e-f262-4dbf-a68f-0d8c017c3d55"
      },
      "execution_count": 30,
      "outputs": [
        {
          "output_type": "stream",
          "name": "stdout",
          "text": [
            "[1] 8.35423\n",
            "[1] 12.14577\n"
          ]
        }
      ]
    },
    {
      "cell_type": "code",
      "source": [
        "ConfLimit=c(x,y)\n",
        "names(ConfLimit)=c('Lower.CL','Upper.CL')\n",
        "print(ConfLimit)"
      ],
      "metadata": {
        "colab": {
          "base_uri": "https://localhost:8080/"
        },
        "id": "IzQkblXRgDLM",
        "outputId": "feaa9b3f-cb3b-4590-e091-c1f6970f7798"
      },
      "execution_count": 31,
      "outputs": [
        {
          "output_type": "stream",
          "name": "stdout",
          "text": [
            "Lower.CL Upper.CL \n",
            " 8.35423 12.14577 \n"
          ]
        }
      ]
    },
    {
      "cell_type": "code",
      "source": [
        "t.test(b,a,paired=T,alternative='less',conf.level=0.99)"
      ],
      "metadata": {
        "colab": {
          "base_uri": "https://localhost:8080/",
          "height": 219
        },
        "id": "Ns5yaRDehiJj",
        "outputId": "524516db-671c-44ba-9050-48dfa876bf79"
      },
      "execution_count": 32,
      "outputs": [
        {
          "output_type": "display_data",
          "data": {
            "text/plain": [
              "\n",
              "\tPaired t-test\n",
              "\n",
              "data:  b and a\n",
              "t = -11.317, df = 19, p-value = 3.465e-10\n",
              "alternative hypothesis: true mean difference is less than 0\n",
              "99 percent confidence interval:\n",
              "      -Inf -7.949847\n",
              "sample estimates:\n",
              "mean difference \n",
              "         -10.25 \n"
            ]
          },
          "metadata": {}
        }
      ]
    }
  ]
}