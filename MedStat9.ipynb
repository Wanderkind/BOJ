{
  "nbformat": 4,
  "nbformat_minor": 0,
  "metadata": {
    "colab": {
      "name": "MedStat9.ipynb",
      "provenance": [],
      "collapsed_sections": [],
      "authorship_tag": "ABX9TyNpxqaWxH3SHG1//DAtU38q",
      "include_colab_link": true
    },
    "kernelspec": {
      "name": "ir",
      "display_name": "R"
    },
    "language_info": {
      "name": "R"
    }
  },
  "cells": [
    {
      "cell_type": "markdown",
      "metadata": {
        "id": "view-in-github",
        "colab_type": "text"
      },
      "source": [
        "<a href=\"https://colab.research.google.com/github/Wanderkind/BOJ/blob/main/MedStat9.ipynb\" target=\"_parent\"><img src=\"https://colab.research.google.com/assets/colab-badge.svg\" alt=\"Open In Colab\"/></a>"
      ]
    },
    {
      "cell_type": "code",
      "execution_count": 33,
      "metadata": {
        "colab": {
          "base_uri": "https://localhost:8080/"
        },
        "id": "AG-KBgWcfAg6",
        "outputId": "82dd8e4f-4260-41f2-848f-bb1751245935"
      },
      "outputs": [
        {
          "output_type": "stream",
          "name": "stdout",
          "text": [
            " [1] 15 15 15  9 16  8 12  8 10 12  9  4 10  4 17 13  4  7  7 10\n",
            "[1] 10.25\n",
            "[1] 20\n"
          ]
        }
      ],
      "source": [
        "b=c(5,9,5,9,6,11,8,11,7,9,8,16,10,12,7,9,21,14,12,13)\n",
        "a=c(20,24,20,18,22,19,20,19,17,21,17,20,20,16,24,22,25,21,19,23)\n",
        "d=a-b\n",
        "alpha=0.01\n",
        "m=mean(d)\n",
        "l=length(d)\n",
        "print(d)\n",
        "print(m)\n",
        "print(l)"
      ]
    },
    {
      "cell_type": "code",
      "source": [
        "df=l-1\n",
        "print(df)"
      ],
      "metadata": {
        "colab": {
          "base_uri": "https://localhost:8080/"
        },
        "id": "SBeu6b-ZfZqb",
        "outputId": "5cb2e277-e68d-465e-c83a-c868b1487f99"
      },
      "execution_count": 34,
      "outputs": [
        {
          "output_type": "stream",
          "name": "stdout",
          "text": [
            "[1] 19\n"
          ]
        }
      ]
    },
    {
      "cell_type": "code",
      "source": [
        "x=m-qt(1-alpha/2,df)*sd(d)*sqrt(1/l)\n",
        "y=m+qt(1-alpha/2,df)*sd(d)*sqrt(1/l)\n",
        "print(x)\n",
        "print(y)"
      ],
      "metadata": {
        "colab": {
          "base_uri": "https://localhost:8080/"
        },
        "id": "viGZ9XjWfjb6",
        "outputId": "717cd11c-5434-434e-81df-a8321172d057"
      },
      "execution_count": 35,
      "outputs": [
        {
          "output_type": "stream",
          "name": "stdout",
          "text": [
            "[1] 7.65869\n",
            "[1] 12.84131\n"
          ]
        }
      ]
    },
    {
      "cell_type": "code",
      "source": [
        "ConfLimit=c(x,y)\n",
        "names(ConfLimit)=c('Lower.CL','Upper.CL')\n",
        "print(ConfLimit)"
      ],
      "metadata": {
        "colab": {
          "base_uri": "https://localhost:8080/"
        },
        "id": "IzQkblXRgDLM",
        "outputId": "78e89f9b-391a-44ff-856a-6984bd0efd8e"
      },
      "execution_count": 36,
      "outputs": [
        {
          "output_type": "stream",
          "name": "stdout",
          "text": [
            "Lower.CL Upper.CL \n",
            " 7.65869 12.84131 \n"
          ]
        }
      ]
    },
    {
      "cell_type": "markdown",
      "source": [
        "▲ 99% 신뢰구간"
      ],
      "metadata": {
        "id": "vqH9gBqAjaVR"
      }
    },
    {
      "cell_type": "markdown",
      "source": [
        "귀무가설: 평균 차이가 0보다 크지 않다<br>\n",
        "대립가설: 평균 차이가 0보다 크다"
      ],
      "metadata": {
        "id": "h9ZGx2_AmDA5"
      }
    },
    {
      "cell_type": "code",
      "source": [
        "t.test(d,mu=0,alternative='greater',conf.level=0.99)"
      ],
      "metadata": {
        "colab": {
          "base_uri": "https://localhost:8080/",
          "height": 219
        },
        "id": "Ns5yaRDehiJj",
        "outputId": "c9ee5536-6769-4908-c8d8-48f11023ff87"
      },
      "execution_count": 42,
      "outputs": [
        {
          "output_type": "display_data",
          "data": {
            "text/plain": [
              "\n",
              "\tOne Sample t-test\n",
              "\n",
              "data:  d\n",
              "t = 11.317, df = 19, p-value = 3.465e-10\n",
              "alternative hypothesis: true mean is greater than 0\n",
              "99 percent confidence interval:\n",
              " 7.949847      Inf\n",
              "sample estimates:\n",
              "mean of x \n",
              "    10.25 \n"
            ]
          },
          "metadata": {}
        }
      ]
    },
    {
      "cell_type": "markdown",
      "source": [
        "▲ 차이 벡터인 d에 대한 단일 t검정:<br>\n",
        "p값이 0.01보다 작으며 평균이 신뢰구간 안에 있으므로 대립가설을 채택한다."
      ],
      "metadata": {
        "id": "lwchyBqZmOyk"
      }
    },
    {
      "cell_type": "code",
      "source": [
        "t.test(a,b,paired=TRUE,alternative='greater',conf.level=0.99)"
      ],
      "metadata": {
        "colab": {
          "base_uri": "https://localhost:8080/",
          "height": 219
        },
        "id": "8sVFzgr0l3Le",
        "outputId": "3b7b53bc-5261-4136-9c27-a14f6b6b6902"
      },
      "execution_count": 43,
      "outputs": [
        {
          "output_type": "display_data",
          "data": {
            "text/plain": [
              "\n",
              "\tPaired t-test\n",
              "\n",
              "data:  a and b\n",
              "t = 11.317, df = 19, p-value = 3.465e-10\n",
              "alternative hypothesis: true mean difference is greater than 0\n",
              "99 percent confidence interval:\n",
              " 7.949847      Inf\n",
              "sample estimates:\n",
              "mean difference \n",
              "          10.25 \n"
            ]
          },
          "metadata": {}
        }
      ]
    },
    {
      "cell_type": "markdown",
      "source": [
        "▲ a와 b에 대한 paired t검정:<br>\n",
        "p값이 0.01보다 작으며 평균이 신뢰구간 안에 있으므로 대립가설을 채택한다."
      ],
      "metadata": {
        "id": "XeANxlhkmlJ9"
      }
    }
  ]
}